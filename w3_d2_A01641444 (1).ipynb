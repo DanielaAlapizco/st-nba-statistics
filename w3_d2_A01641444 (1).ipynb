{
  "nbformat": 4,
  "nbformat_minor": 0,
  "metadata": {
    "colab": {
      "provenance": []
    },
    "kernelspec": {
      "name": "python3",
      "display_name": "Python 3"
    },
    "language_info": {
      "name": "python"
    }
  },
  "cells": [
    {
      "cell_type": "code",
      "source": [
        "! pip install streamlit -q\n",
        "! pip install streamlit-option-menu -q"
      ],
      "metadata": {
        "id": "oUFyWWGI5f0M",
        "colab": {
          "base_uri": "https://localhost:8080/"
        },
        "outputId": "24d92610-9bf5-4040-afbc-da01b4f0030f"
      },
      "execution_count": 1,
      "outputs": [
        {
          "output_type": "stream",
          "name": "stdout",
          "text": [
            "\u001b[2K     \u001b[90m━━━━━━━━━━━━━━━━━━━━━━━━━━━━━━━━━━━━━━━━\u001b[0m \u001b[32m44.3/44.3 kB\u001b[0m \u001b[31m1.0 MB/s\u001b[0m eta \u001b[36m0:00:00\u001b[0m\n",
            "\u001b[2K   \u001b[90m━━━━━━━━━━━━━━━━━━━━━━━━━━━━━━━━━━━━━━━━\u001b[0m \u001b[32m8.6/8.6 MB\u001b[0m \u001b[31m18.1 MB/s\u001b[0m eta \u001b[36m0:00:00\u001b[0m\n",
            "\u001b[2K   \u001b[90m━━━━━━━━━━━━━━━━━━━━━━━━━━━━━━━━━━━━━━━━\u001b[0m \u001b[32m6.9/6.9 MB\u001b[0m \u001b[31m23.3 MB/s\u001b[0m eta \u001b[36m0:00:00\u001b[0m\n",
            "\u001b[2K   \u001b[90m━━━━━━━━━━━━━━━━━━━━━━━━━━━━━━━━━━━━━━━━\u001b[0m \u001b[32m79.1/79.1 kB\u001b[0m \u001b[31m4.0 MB/s\u001b[0m eta \u001b[36m0:00:00\u001b[0m\n",
            "\u001b[2K   \u001b[90m━━━━━━━━━━━━━━━━━━━━━━━━━━━━━━━━━━━━━━━━\u001b[0m \u001b[32m829.3/829.3 kB\u001b[0m \u001b[31m6.9 MB/s\u001b[0m eta \u001b[36m0:00:00\u001b[0m\n",
            "\u001b[?25h"
          ]
        }
      ]
    },
    {
      "cell_type": "code",
      "source": [
        "%%writefile app.py\n",
        "import streamlit as st\n",
        "from streamlit_option_menu import option_menu\n",
        "import requests\n",
        "import pandas as pd\n",
        "from bs4 import BeautifulSoup\n",
        "import seaborn as sns\n",
        "import matplotlib.pyplot as plt\n",
        "import plotly.graph_objects as go\n",
        "import plotly.express as px\n",
        "from collections import Counter\n",
        "\n",
        "# Define the app configuration parameters\n",
        "st.set_page_config(\n",
        "    page_title=\"NBA Stats\",  # Title\n",
        "    page_icon=\"/content/NBA ICON.webp\",  # Icon #Es necesario subirlo en content\n",
        "    layout=\"wide\",  # Layout template: wide or compact\n",
        "    initial_sidebar_state=\"expanded\"  # Define whether the sidebar appears expanded or collapsed\n",
        ")\n",
        "\n",
        "# Google Sheets URL and Sheet ID\n",
        "gsheetid = '1UOd0gcbuo2SspT-zKeysub8kH75F-2QE'\n",
        "sheetid = '164421049'\n",
        "url = f'https://docs.google.com/spreadsheets/d/{gsheetid}/export?format=csv&gid={sheetid}'\n",
        "df = pd.read_csv(url)\n",
        "\n",
        "st.markdown(\"\"\"\n",
        "    <style>\n",
        "    .titulo-TITULO {\n",
        "        font-size: 60px;\n",
        "        color: #FFFFFF;\n",
        "        text-align: center;\n",
        "        font-weight: bold;\n",
        "    }\n",
        "    .texto-NOMBRE {\n",
        "        color: #FFFFFF;\n",
        "        font-size: 18px;\n",
        "    }\n",
        "    </style>\n",
        "    \"\"\", unsafe_allow_html=True)\n",
        "\n",
        "# Aplicación de los estilos CSS\n",
        "st.markdown('<h1 class=\"titulo-TITULO\">NBA Statistics</h1>', unsafe_allow_html=True)\n",
        "st.markdown('<p class=\"texto-NOMBRE\">Daniela Alapizco.</p>', unsafe_allow_html=True)\n",
        "\n",
        "with open('/content/waves.css') as f: #Es necesario subirlo en content\n",
        "    css = f.read()\n",
        "st.markdown(f'<style>{css}</style>', unsafe_allow_html=True)\n",
        "\n",
        "#st.title('A Random App')\n",
        "#st.write('Look at the pretty waves')\n",
        "st.markdown('<p class=\"dashboard_title\">A Random App</p>', unsafe_allow_html = True)\n",
        "st.markdown('<p class=\"dashboard_subtitle\">Look at the pretty waves</p>', unsafe_allow_html = True)\n",
        "\n",
        "# Horizontal Menu\n",
        "menu_selected = option_menu(None, [\"Home\", \"EDA\", \"Insights\", 'Prediction'],\n",
        "    icons=['house', 'cloud-upload', \"list-task\", 'gear'],\n",
        "    menu_icon=\"cast\", default_index=0, orientation=\"horizontal\",\n",
        "        styles={\n",
        "        \"container\": {\"background-color\": \"#B7A6F6\"},\n",
        "        \"icon\": {\"color\": \"#802EF2\", \"font-size\": \"20px\"},\n",
        "        \"nav-link\": {\"font-size\": \"20px\", \"text-align\": \"left\", \"margin\":\"0px\", \"--hover-color\": \"#88A3E2\"},\n",
        "        \"nav-link-selected\": {\"background-color\": \"#7A577A\"},\n",
        "    }\n",
        ")\n",
        "\n",
        "if menu_selected==\"EDA\":\n",
        "    st.write(\"The EDA page\")\n",
        "\n",
        "if menu_selected==\"Insights\":\n",
        "    st.write(\"The Insights page\")\n",
        "    # Function for player points chart\n",
        "    def load_PLAYER_chart(url):\n",
        "      df = pd.read_csv(url)\n",
        "      df_categories = df.groupby('player_name')['pts'].sum().reset_index()\n",
        "      fig1 = px.bar(df_categories, x='player_name', y='pts', color=\"player_name\", title=\"Player by Points\")\n",
        "      st.plotly_chart(fig1, use_container_width=True)\n",
        "\n",
        "  # Function for team profit chart\n",
        "    def load_team_chart(url):\n",
        "      df = pd.read_csv(url)\n",
        "      df_team = df.groupby('team_abbreviation')['reb'].mean().reset_index()\n",
        "      fig2 = px.pie(df_team, values='reb', names='team_abbreviation', title='Reb by Team')\n",
        "      st.plotly_chart(fig2, use_container_width=True)\n",
        "\n",
        "  # Display charts in two columns\n",
        "    c1, c2 = st.columns(2)\n",
        "    with c1:\n",
        "      load_PLAYER_chart(url)\n",
        "\n",
        "    with c2:\n",
        "      load_team_chart(url)\n",
        "\n",
        "if menu_selected==\"Prediction\":\n",
        "    st.write(\"The Prediction Model page\")\n"
      ],
      "metadata": {
        "colab": {
          "base_uri": "https://localhost:8080/"
        },
        "id": "yQZQY2cte9vk",
        "outputId": "ca64593a-4875-44b5-cd84-e5247933e25c"
      },
      "execution_count": 2,
      "outputs": [
        {
          "output_type": "stream",
          "name": "stdout",
          "text": [
            "Writing app.py\n"
          ]
        }
      ]
    },
    {
      "cell_type": "code",
      "source": [
        "!npm install -g localtunnel"
      ],
      "metadata": {
        "colab": {
          "base_uri": "https://localhost:8080/"
        },
        "id": "r0ANfHMW_j3X",
        "outputId": "76ea8ca0-8520-474d-e86c-4a6822fd2a10"
      },
      "execution_count": 3,
      "outputs": [
        {
          "output_type": "stream",
          "name": "stdout",
          "text": [
            "\u001b[K\u001b[?25h\n",
            "added 22 packages, and audited 23 packages in 3s\n",
            "\n",
            "3 packages are looking for funding\n",
            "  run `npm fund` for details\n",
            "\n",
            "1 \u001b[33m\u001b[1mmoderate\u001b[22m\u001b[39m severity vulnerability\n",
            "\n",
            "To address all issues (including breaking changes), run:\n",
            "  npm audit fix --force\n",
            "\n",
            "Run `npm audit` for details.\n"
          ]
        }
      ]
    },
    {
      "cell_type": "code",
      "source": [
        "! streamlit run app.py &>logs.txt & npx localtunnel --port 8501"
      ],
      "metadata": {
        "colab": {
          "base_uri": "https://localhost:8080/"
        },
        "id": "Xb9x-pyH_kX0",
        "outputId": "38a17d0b-70e4-4e99-aa48-4bed65897f21"
      },
      "execution_count": 4,
      "outputs": [
        {
          "output_type": "stream",
          "name": "stdout",
          "text": [
            "your url is: https://seven-foxes-swim.loca.lt\n",
            "^C\n"
          ]
        }
      ]
    }
  ]
}